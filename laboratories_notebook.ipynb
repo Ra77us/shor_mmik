{
 "cells": [
  {
   "cell_type": "markdown",
   "metadata": {
    "pycharm": {
     "name": "#%% md\n"
    }
   },
   "source": [
    "# Shor's algorithm in Qiskit\n",
    "\n",
    "Disclaimer: some bugs may occur in this notebook and algorithm's implementations. If so, please report them on GitHub. Thanks :)"
   ]
  },
  {
   "cell_type": "markdown",
   "metadata": {},
   "source": [
    "## Preparations"
   ]
  },
  {
   "cell_type": "code",
   "execution_count": null,
   "metadata": {
    "pycharm": {
     "name": "#%%\n"
    }
   },
   "outputs": [],
   "source": [
    "import matplotlib.pyplot as plt\n",
    "\n",
    "from qiskit import QuantumCircuit, QuantumRegister, ClassicalRegister\n",
    "from qiskit.utils import QuantumInstance\n",
    "from qiskit.visualization import plot_histogram"
   ]
  },
  {
   "cell_type": "code",
   "execution_count": null,
   "metadata": {
    "pycharm": {
     "name": "#%%\n"
    }
   },
   "outputs": [],
   "source": [
    "import sys\n",
    "import logging\n",
    "\n",
    "logging.basicConfig(level=logging.INFO)\n",
    "\n",
    "for handler in logging.getLogger().handlers:\n",
    "    handler.setLevel(logging.WARNING)\n",
    "\n",
    "logger = logging.getLogger('implementations.shor')\n",
    "logger.setLevel(logging.INFO)\n",
    "\n",
    "if len(logger.handlers) == 0:\n",
    "    handler = logging.StreamHandler(sys.stdout)\n",
    "    handler.setLevel(logging.INFO)\n",
    "    handler.setFormatter(logging.Formatter('%(name)s: %(message)s'))\n",
    "    handler.addFilter(logging.Filter('implementations.shor'))\n",
    "    logger.addHandler(handler)"
   ]
  },
  {
   "cell_type": "markdown",
   "metadata": {},
   "source": [
    "Select numbers to test."
   ]
  },
  {
   "cell_type": "code",
   "execution_count": null,
   "metadata": {
    "pycharm": {
     "name": "#%%\n"
    }
   },
   "outputs": [],
   "source": [
    "# N = 15, 21; also 35, 55 (for these, simulation will be long locally, up to 6 minutes)\n",
    "N = 15\n",
    "\n",
    "# 1 < a < N and gcd(a, N) = 1\n",
    "a = 7"
   ]
  },
  {
   "cell_type": "markdown",
   "metadata": {
    "pycharm": {
     "name": "#%% md\n"
    }
   },
   "source": [
    "## Classical calculations\n",
    "\n",
    "Compute classically reminders of `a^x mod N` for `x = 1, ..., 20`. Present results on graph, observe the period. For modular power, see https://docs.python.org/3.8/library/functions.html#pow"
   ]
  },
  {
   "cell_type": "code",
   "execution_count": null,
   "metadata": {
    "pycharm": {
     "name": "#%%\n"
    }
   },
   "outputs": [],
   "source": [
    "exponents = list(range(20))\n",
    "values = []\n",
    "\n",
    "for i in exponents:\n",
    "    value = pow(a, i, mod=N)\n",
    "    values.append(value)"
   ]
  },
  {
   "cell_type": "code",
   "execution_count": null,
   "metadata": {
    "pycharm": {
     "name": "#%%\n"
    }
   },
   "outputs": [],
   "source": [
    "plt.figure(figsize=(16, 8))\n",
    "plt.title(f'Remainders for a={a}, N={N}')\n",
    "plt.xlabel('x')\n",
    "plt.xticks(exponents)\n",
    "plt.ylabel(f'{a}^x mod {N}')\n",
    "plt.scatter(exponents, values)\n",
    "plt.plot(exponents, values)\n",
    "plt.show()"
   ]
  },
  {
   "cell_type": "markdown",
   "metadata": {
    "collapsed": true,
    "pycharm": {
     "name": "#%% md\n"
    }
   },
   "source": [
    "## Operation `a^x mod N` in Qiskit"
   ]
  },
  {
   "cell_type": "markdown",
   "metadata": {
    "pycharm": {
     "name": "#%% md\n"
    }
   },
   "source": [
    "Import gate for modular exponentiation. You can also use other implementations (mind the number of ancillary qubits)."
   ]
  },
  {
   "cell_type": "code",
   "execution_count": null,
   "metadata": {
    "pycharm": {
     "name": "#%%\n"
    }
   },
   "outputs": [],
   "source": [
    "from gates.mix.modular_exponentiation import modular_exponentiation_gate  # (n + 1 ancilla)\n",
    "\n",
    "# from gates.takahashi.modular_exponentiation import modular_exponentiation_gate # (n + 1 ancilla)\n",
    "\n",
    "# from gates.beauregard.modular_exponentiation import modular_exponentiation_gate # (n + 2 ancilla)\n",
    "\n",
    "# from gates.haner.modular_exponentiation import modular_exponentiation_gate # (n + 1 ancilla, big size of circuit!)"
   ]
  },
  {
   "cell_type": "markdown",
   "metadata": {
    "pycharm": {
     "name": "#%% md\n"
    }
   },
   "source": [
    "Count width `n` of `N`."
   ]
  },
  {
   "cell_type": "code",
   "execution_count": null,
   "metadata": {
    "pycharm": {
     "name": "#%%\n"
    }
   },
   "outputs": [],
   "source": [
    "n = N.bit_length()\n",
    "print(n)"
   ]
  },
  {
   "cell_type": "markdown",
   "metadata": {
    "pycharm": {
     "name": "#%% md\n"
    }
   },
   "source": [
    "Create registers and circuit."
   ]
  },
  {
   "cell_type": "code",
   "execution_count": null,
   "metadata": {
    "pycharm": {
     "name": "#%%\n"
    }
   },
   "outputs": [],
   "source": [
    "# input register\n",
    "x_qreg = QuantumRegister(2 * n, name='x')\n",
    "\n",
    "# output register, must contain 1\n",
    "y_qreg = QuantumRegister(n, name='y')"
   ]
  },
  {
   "cell_type": "code",
   "execution_count": null,
   "metadata": {
    "pycharm": {
     "name": "#%%\n"
    }
   },
   "outputs": [],
   "source": [
    "# ancillary register; change the size according to selected implementation\n",
    "ancillary_register_size = n + 1\n",
    "aux_qreg = QuantumRegister(ancillary_register_size, name='aux')"
   ]
  },
  {
   "cell_type": "code",
   "execution_count": null,
   "metadata": {
    "pycharm": {
     "name": "#%%\n"
    }
   },
   "outputs": [],
   "source": [
    "circuit = QuantumCircuit(x_qreg, y_qreg, aux_qreg)"
   ]
  },
  {
   "cell_type": "code",
   "execution_count": null,
   "metadata": {
    "pycharm": {
     "name": "#%%\n"
    }
   },
   "outputs": [],
   "source": [
    "# prepare input register\n",
    "circuit.h(x_qreg)\n",
    "\n",
    "# prepare output register\n",
    "circuit.x(y_qreg[0])"
   ]
  },
  {
   "cell_type": "code",
   "execution_count": null,
   "metadata": {
    "pycharm": {
     "name": "#%%\n"
    }
   },
   "outputs": [],
   "source": [
    "# append gate\n",
    "gate = modular_exponentiation_gate(a, N, n)\n",
    "circuit.append(gate, circuit.qubits)"
   ]
  },
  {
   "cell_type": "code",
   "execution_count": null,
   "metadata": {
    "pycharm": {
     "name": "#%%\n"
    }
   },
   "outputs": [],
   "source": [
    "# measure output register\n",
    "y_creg = ClassicalRegister(n, name='yValue')\n",
    "circuit.add_register(y_creg)\n",
    "circuit.measure(y_qreg, y_creg)"
   ]
  },
  {
   "cell_type": "code",
   "execution_count": null,
   "metadata": {
    "pycharm": {
     "name": "#%%\n"
    }
   },
   "outputs": [],
   "source": [
    "circuit.draw(output='mpl', fold=-1)"
   ]
  },
  {
   "cell_type": "markdown",
   "metadata": {
    "pycharm": {
     "name": "#%% md\n"
    }
   },
   "source": [
    "Run circuit. Usage of IBMQ simulator for `n > 5` is suggested."
   ]
  },
  {
   "cell_type": "code",
   "execution_count": null,
   "metadata": {
    "pycharm": {
     "name": "#%%\n"
    }
   },
   "outputs": [],
   "source": [
    "def get_quantum_instance(cloud):\n",
    "    if cloud:\n",
    "        from qiskit import IBMQ\n",
    "        provider = IBMQ.load_account()\n",
    "        backend = provider.get_backend('ibmq_qasm_simulator')\n",
    "    else:\n",
    "        from qiskit import Aer\n",
    "        backend = Aer.get_backend('qasm_simulator')\n",
    "\n",
    "    return QuantumInstance(backend)"
   ]
  },
  {
   "cell_type": "code",
   "execution_count": null,
   "metadata": {
    "pycharm": {
     "name": "#%%\n"
    }
   },
   "outputs": [],
   "source": [
    "instance = get_quantum_instance(cloud=True)\n",
    "instance.set_config(shots=64)\n",
    "exponentiation_result = instance.execute(circuit)"
   ]
  },
  {
   "cell_type": "markdown",
   "metadata": {
    "pycharm": {
     "name": "#%% md\n"
    }
   },
   "source": [
    "Draw histogram. Compare results with classical calculations."
   ]
  },
  {
   "cell_type": "code",
   "execution_count": null,
   "metadata": {
    "pycharm": {
     "name": "#%%\n"
    }
   },
   "outputs": [],
   "source": [
    "counts = exponentiation_result.get_counts(circuit)\n",
    "plot_histogram(counts)"
   ]
  },
  {
   "cell_type": "markdown",
   "metadata": {
    "pycharm": {
     "name": "#%% md\n"
    }
   },
   "source": [
    "Let's try observe period."
   ]
  },
  {
   "cell_type": "code",
   "execution_count": null,
   "metadata": {
    "pycharm": {
     "name": "#%%\n"
    }
   },
   "outputs": [],
   "source": [
    "# clone circuit\n",
    "circuit2 = circuit.copy()\n",
    "\n",
    "# measure input register\n",
    "x_creg = ClassicalRegister(2 * n, name='xValue')\n",
    "circuit2.add_register(x_creg)\n",
    "circuit2.measure(x_qreg, x_creg)"
   ]
  },
  {
   "cell_type": "code",
   "execution_count": null,
   "metadata": {
    "pycharm": {
     "name": "#%%\n"
    }
   },
   "outputs": [],
   "source": [
    "instance.set_config(shots=128)\n",
    "exponentiation_and_exponent_result = instance.execute(circuit2)"
   ]
  },
  {
   "cell_type": "code",
   "execution_count": null,
   "metadata": {
    "pycharm": {
     "name": "#%%\n"
    }
   },
   "outputs": [],
   "source": [
    "counts = exponentiation_and_exponent_result.get_counts(circuit2)\n",
    "values_map = {}\n",
    "for measurement in counts.keys():\n",
    "    x, y = [int(value, base=2) for value in measurement.split(' ')]\n",
    "    values = values_map.get(y, [])\n",
    "    values.append(x)\n",
    "    values_map[y] = values"
   ]
  },
  {
   "cell_type": "markdown",
   "metadata": {},
   "source": [
    "Print measured `x` values for each exponentiation result.\n",
    "You should observe that values differs from each other by constant - period `r`. (precisely, only part of them\n",
    "in different runs will - think why!)"
   ]
  },
  {
   "cell_type": "code",
   "execution_count": null,
   "metadata": {
    "pycharm": {
     "name": "#%%\n"
    }
   },
   "outputs": [],
   "source": [
    "for y, x_values in values_map.items():\n",
    "    print(y)\n",
    "    print(sorted(x_values))\n",
    "    print()"
   ]
  },
  {
   "cell_type": "markdown",
   "metadata": {
    "pycharm": {
     "name": "#%% md\n"
    }
   },
   "source": [
    "## Finding period / order in Qiskit"
   ]
  },
  {
   "cell_type": "markdown",
   "metadata": {
    "pycharm": {
     "name": "#%% md\n"
    }
   },
   "source": [
    "Import Shor's algorithm implementation.\n",
    "Similarly to modular exponentiation gate, you can test different implementations."
   ]
  },
  {
   "cell_type": "code",
   "execution_count": null,
   "metadata": {
    "pycharm": {
     "name": "#%%\n"
    }
   },
   "outputs": [],
   "source": [
    "from implementations.mix import MixShor as Shor\n",
    "\n",
    "# from implementations.takahashi import TakahashiShor as Shor\n",
    "\n",
    "# from implementations.beauregard import BeauregardShor as Shor\n",
    "\n",
    "# from implementations.haner import HanerShor as Shor # (big size of circuit!)"
   ]
  },
  {
   "cell_type": "markdown",
   "metadata": {
    "pycharm": {
     "name": "#%% md\n"
    }
   },
   "source": [
    "For usage, class instance have to be created."
   ]
  },
  {
   "cell_type": "code",
   "execution_count": null,
   "metadata": {
    "pycharm": {
     "name": "#%%\n"
    }
   },
   "outputs": [],
   "source": [
    "instance = get_quantum_instance(cloud=True)\n",
    "instance.set_config(shots=64)\n",
    "\n",
    "# create instance of class\n",
    "shor = Shor(instance)"
   ]
  },
  {
   "cell_type": "markdown",
   "metadata": {
    "pycharm": {
     "name": "#%% md\n"
    }
   },
   "source": [
    "Observe 3 parts of algorithm."
   ]
  },
  {
   "cell_type": "code",
   "execution_count": null,
   "metadata": {
    "pycharm": {
     "name": "#%%\n"
    }
   },
   "outputs": [],
   "source": [
    "circuit = shor.construct_circuit(a, N, semi_classical=False, measurement=True)\n",
    "circuit.draw(output='mpl', fold=-1)"
   ]
  },
  {
   "cell_type": "markdown",
   "metadata": {},
   "source": [
    "Invoke `get_order()` to run algorithm and post-process measurements. Usage of IBMQ simulator for `n > 5` is suggested.\n",
    "Setting `semi_classical` argument to `True` will run algorithm on optimized version of circuit."
   ]
  },
  {
   "cell_type": "code",
   "execution_count": null,
   "metadata": {
    "pycharm": {
     "name": "#%%\n"
    }
   },
   "outputs": [],
   "source": [
    "result = shor.get_order(a, N, semi_classical=True)"
   ]
  },
  {
   "cell_type": "markdown",
   "metadata": {},
   "source": [
    "Print result. Compare it with earlier observed order."
   ]
  },
  {
   "cell_type": "code",
   "execution_count": null,
   "metadata": {
    "pycharm": {
     "name": "#%%\n"
    }
   },
   "outputs": [],
   "source": [
    "print(result.total_shots, result.successful_shots)\n",
    "print(result.total_counts, result.successful_counts)\n",
    "print(result.order)"
   ]
  },
  {
   "cell_type": "markdown",
   "metadata": {
    "pycharm": {
     "name": "#%% md\n"
    }
   },
   "source": [
    "## Bob's and Eva's algorithm"
   ]
  },
  {
   "cell_type": "markdown",
   "metadata": {
    "pycharm": {
     "name": "#%% md\n"
    }
   },
   "source": [
    "Use `get_order()` to perform tasks from laboratories.\n",
    "For modular power and modular inverse see: https://docs.python.org/3.8/library/functions.html#pow"
   ]
  },
  {
   "cell_type": "code",
   "execution_count": null,
   "metadata": {
    "pycharm": {
     "name": "#%%\n"
    }
   },
   "outputs": [],
   "source": [
    "# TODO by you :)"
   ]
  }
 ],
 "metadata": {
  "kernelspec": {
   "display_name": "Python 3",
   "language": "python",
   "name": "python3"
  },
  "language_info": {
   "codemirror_mode": {
    "name": "ipython",
    "version": 3
   },
   "file_extension": ".py",
   "mimetype": "text/x-python",
   "name": "python",
   "nbconvert_exporter": "python",
   "pygments_lexer": "ipython3",
   "version": "3.8.5"
  }
 },
 "nbformat": 4,
 "nbformat_minor": 1
}
